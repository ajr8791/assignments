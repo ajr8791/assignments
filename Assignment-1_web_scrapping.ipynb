{
 "cells": [
  {
   "cell_type": "code",
   "execution_count": 1,
   "id": "79b58a82",
   "metadata": {},
   "outputs": [
    {
     "name": "stdout",
     "output_type": "stream",
     "text": [
      "                                                Quote              Author   \n",
      "0   The world as we have created it is a process o...     Albert Einstein  \\\n",
      "1   It is our choices, Harry, that show what we tr...        J.K. Rowling   \n",
      "2   There are only two ways to live your life. One...     Albert Einstein   \n",
      "3   The person, be it gentleman or lady, who has n...         Jane Austen   \n",
      "4   Imperfection is beauty, madness is genius and ...      Marilyn Monroe   \n",
      "..                                                ...                 ...   \n",
      "95  You never really understand a person until you...          Harper Lee   \n",
      "96  You have to write the book that wants to be wr...   Madeleine L'Engle   \n",
      "97  Never tell the truth to people who are not wor...          Mark Twain   \n",
      "98          A person's a person, no matter how small.           Dr. Seuss   \n",
      "99  ... a mind needs books as a sword needs a whet...  George R.R. Martin   \n",
      "\n",
      "                                                 Tags  \n",
      "0            [change, deep-thoughts, thinking, world]  \n",
      "1                                [abilities, choices]  \n",
      "2      [inspirational, life, live, miracle, miracles]  \n",
      "3                  [aliteracy, books, classic, humor]  \n",
      "4                        [be-yourself, inspirational]  \n",
      "..                                                ...  \n",
      "95                              [better-life-empathy]  \n",
      "96  [books, children, difficult, grown-ups, write,...  \n",
      "97                                            [truth]  \n",
      "98                                    [inspirational]  \n",
      "99                                      [books, mind]  \n",
      "\n",
      "[100 rows x 3 columns]\n"
     ]
    }
   ],
   "source": [
    "import requests\n",
    "from bs4 import BeautifulSoup\n",
    "import pandas as pd\n",
    "\n",
    "quotes = []\n",
    "for i in range(1, 11): \n",
    "    url = f\"http://quotes.toscrape.com/page/{i}/\"\n",
    "    response = requests.get(url)\n",
    "    response = response.content\n",
    "    soup = BeautifulSoup(response, \"html.parser\")\n",
    "    quote_blocks = soup.find_all(class_=\"quote\")\n",
    "    \n",
    "    for quote_block in quote_blocks:\n",
    "        quote = quote_block.find(class_=\"text\").get_text().strip(\"“” \")\n",
    "        author = quote_block.find(class_=\"author\").get_text()\n",
    "        tags = [tag.get_text() for tag in quote_block.select(\".tag\")]\n",
    "        quotes.append({\"Quote\": quote, \"Author\": author, \"Tags\": tags})\n",
    "\n",
    "\n",
    "df = pd.DataFrame(quotes)\n",
    "\n",
    "\n",
    "print(df)"
   ]
  },
  {
   "cell_type": "code",
   "execution_count": 2,
   "id": "3417aae0",
   "metadata": {},
   "outputs": [],
   "source": [
    "df.to_csv('Quotes_Scraped.csv')"
   ]
  },
  {
   "cell_type": "code",
   "execution_count": null,
   "id": "59e93c88",
   "metadata": {},
   "outputs": [],
   "source": []
  },
  {
   "cell_type": "code",
   "execution_count": null,
   "id": "5c56e326",
   "metadata": {},
   "outputs": [],
   "source": []
  },
  {
   "cell_type": "code",
   "execution_count": null,
   "id": "6e50694d",
   "metadata": {},
   "outputs": [],
   "source": []
  }
 ],
 "metadata": {
  "kernelspec": {
   "display_name": "Python 3 (ipykernel)",
   "language": "python",
   "name": "python3"
  },
  "language_info": {
   "codemirror_mode": {
    "name": "ipython",
    "version": 3
   },
   "file_extension": ".py",
   "mimetype": "text/x-python",
   "name": "python",
   "nbconvert_exporter": "python",
   "pygments_lexer": "ipython3",
   "version": "3.11.3"
  }
 },
 "nbformat": 4,
 "nbformat_minor": 5
}
